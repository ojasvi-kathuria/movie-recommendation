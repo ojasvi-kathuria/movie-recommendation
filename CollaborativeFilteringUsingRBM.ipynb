{
 "cells": [
  {
   "cell_type": "markdown",
   "metadata": {},
   "source": [
    "<h1 align=\"center\"><font size=\"5\">RECOMMENDATION SYSTEM WITH A RESTRICTED BOLTZMANN MACHINE</font></h1>"
   ]
  },
  {
   "cell_type": "markdown",
   "metadata": {},
   "source": [
    "Welcome to the <b>Recommendation System with a Restricted Boltzmann Machine</b> notebook. In this notebook, we study and go over the usage of a Restricted Boltzmann Machine (RBM) in a Collaborative Filtering based recommendation system. This system is an algorithm that recommends items by trying to find users that are similar to each other based on their item ratings. By the end of this notebook, you should have a deeper understanding of how Restricted Boltzmann Machines are applied, and how to build one using TensorFlow."
   ]
  },
  {
   "cell_type": "markdown",
   "metadata": {},
   "source": [
    "<h2>Table of Contents</h2>\n",
    "\n",
    "<ol>\n",
    "    <li><a href=\"#ref1\">Acquiring the Data</a></li>\n",
    "    <li><a href=\"#ref2\">Loading in the Data</a></li>\n",
    "    <li><a href=\"#ref3\">The Restricted Boltzmann Machine model</a></li>\n",
    "    <li><a href=\"#ref4\">Setting the Model's Parameters</a></li>\n",
    "    <li><a href=\"#ref5\">Recommendation</a></li>\n",
    "</ol>\n",
    "<br>\n",
    "<br>\n",
    "<hr>"
   ]
  },
  {
   "cell_type": "markdown",
   "metadata": {},
   "source": [
    "<a id=\"ref1\"></a>\n",
    "<h2>Acquiring the Data</h2>"
   ]
  },
  {
   "cell_type": "markdown",
   "metadata": {},
   "source": [
    "To start, we need to download the data we are going to use for our system. The datasets we are going to use were acquired by <a href=\"http://grouplens.org/datasets/movielens/\">GroupLens</a> and contain movies, users and movie ratings by these users.\n",
    "\n",
    "After downloading the data, we will extract the datasets to a directory that is easily accessible."
   ]
  },
  {
   "cell_type": "code",
   "execution_count": null,
   "metadata": {},
   "outputs": [],
   "source": [
    "!wget -c https://raw.githubusercontent.com/fawazsiddiqi/recommendation-system-with-a-Restricted-Boltzmann-Machine-using-tensorflow/master/data/ml-1m.zip -O moviedataset.zip\n",
    "!unzip -o moviedataset.zip"
   ]
  },
  {
   "cell_type": "markdown",
   "metadata": {},
   "source": [
    "With the datasets in place, let's now import the necessary libraries. We will be using <a href=\"https://www.tensorflow.org/\">Tensorflow</a> and <a href=\"http://www.numpy.org/\">Numpy</a> together to model and initialize our Restricted Boltzmann Machine and <a href=\"http://pandas.pydata.org/pandas-docs/stable/\">Pandas</a> to manipulate our datasets. To import these libraries, run the code cell below."
   ]
  },
  {
   "cell_type": "code",
   "execution_count": 15,
   "metadata": {},
   "outputs": [],
   "source": [
    "#Tensorflow library. Used to implement machine learning models\n",
    "import tensorflow as tf\n",
    "#Numpy contains helpful functions for efficient mathematical calculations\n",
    "import numpy as np\n",
    "#Dataframe manipulation library\n",
    "import pandas as pd\n",
    "#Graph plotting library\n",
    "import matplotlib.pyplot as plt\n",
    "%matplotlib inline"
   ]
  },
  {
   "cell_type": "markdown",
   "metadata": {},
   "source": [
    "<hr>"
   ]
  },
  {
   "cell_type": "markdown",
   "metadata": {},
   "source": [
    "<a id=\"ref2\"></a>\n",
    "<h2>Loading in the Data</h2>\n",
    "\n",
    "Let's begin by loading in our data with Pandas. The .dat files containing our data are similar to CSV files, but instead of using the ',' (comma) character to separate entries, it uses '::' (two colons) characters instead. To let Pandas know that it should separate data points at every '::', we have to specify the <code>sep='::'</code> parameter when calling the function.\n",
    "\n",
    "Additionally, we also pass it the <code>header=None</code> parameter due to the fact that our files don't contain any headers.\n",
    "\n",
    "Let's start with the movies.dat file and take a look at its structure:"
   ]
  },
  {
   "cell_type": "code",
   "execution_count": 21,
   "metadata": {
    "scrolled": true
   },
   "outputs": [
    {
     "data": {
      "text/html": [
       "<div>\n",
       "<style scoped>\n",
       "    .dataframe tbody tr th:only-of-type {\n",
       "        vertical-align: middle;\n",
       "    }\n",
       "\n",
       "    .dataframe tbody tr th {\n",
       "        vertical-align: top;\n",
       "    }\n",
       "\n",
       "    .dataframe thead th {\n",
       "        text-align: right;\n",
       "    }\n",
       "</style>\n",
       "<table border=\"1\" class=\"dataframe\">\n",
       "  <thead>\n",
       "    <tr style=\"text-align: right;\">\n",
       "      <th></th>\n",
       "      <th>0</th>\n",
       "      <th>1</th>\n",
       "      <th>2</th>\n",
       "    </tr>\n",
       "  </thead>\n",
       "  <tbody>\n",
       "    <tr>\n",
       "      <th>0</th>\n",
       "      <td>1</td>\n",
       "      <td>Toy Story (1995)</td>\n",
       "      <td>Animation|Children's|Comedy</td>\n",
       "    </tr>\n",
       "    <tr>\n",
       "      <th>1</th>\n",
       "      <td>2</td>\n",
       "      <td>Jumanji (1995)</td>\n",
       "      <td>Adventure|Children's|Fantasy</td>\n",
       "    </tr>\n",
       "    <tr>\n",
       "      <th>2</th>\n",
       "      <td>3</td>\n",
       "      <td>Grumpier Old Men (1995)</td>\n",
       "      <td>Comedy|Romance</td>\n",
       "    </tr>\n",
       "    <tr>\n",
       "      <th>3</th>\n",
       "      <td>4</td>\n",
       "      <td>Waiting to Exhale (1995)</td>\n",
       "      <td>Comedy|Drama</td>\n",
       "    </tr>\n",
       "    <tr>\n",
       "      <th>4</th>\n",
       "      <td>5</td>\n",
       "      <td>Father of the Bride Part II (1995)</td>\n",
       "      <td>Comedy</td>\n",
       "    </tr>\n",
       "  </tbody>\n",
       "</table>\n",
       "</div>"
      ],
      "text/plain": [
       "   0                                   1                             2\n",
       "0  1                    Toy Story (1995)   Animation|Children's|Comedy\n",
       "1  2                      Jumanji (1995)  Adventure|Children's|Fantasy\n",
       "2  3             Grumpier Old Men (1995)                Comedy|Romance\n",
       "3  4            Waiting to Exhale (1995)                  Comedy|Drama\n",
       "4  5  Father of the Bride Part II (1995)                        Comedy"
      ]
     },
     "execution_count": 21,
     "metadata": {},
     "output_type": "execute_result"
    }
   ],
   "source": [
    "#Loading in the movies dataset\n",
    "movies_df = pd.read_csv('ml-1m/movies.dat', sep='::', header=None, engine='python', encoding = 'latin-1')\n",
    "movies_df.head()"
   ]
  },
  {
   "cell_type": "markdown",
   "metadata": {},
   "source": [
    "We can do the same for the ratings.dat file:"
   ]
  },
  {
   "cell_type": "code",
   "execution_count": 23,
   "metadata": {},
   "outputs": [
    {
     "data": {
      "text/html": [
       "<div>\n",
       "<style scoped>\n",
       "    .dataframe tbody tr th:only-of-type {\n",
       "        vertical-align: middle;\n",
       "    }\n",
       "\n",
       "    .dataframe tbody tr th {\n",
       "        vertical-align: top;\n",
       "    }\n",
       "\n",
       "    .dataframe thead th {\n",
       "        text-align: right;\n",
       "    }\n",
       "</style>\n",
       "<table border=\"1\" class=\"dataframe\">\n",
       "  <thead>\n",
       "    <tr style=\"text-align: right;\">\n",
       "      <th></th>\n",
       "      <th>0</th>\n",
       "      <th>1</th>\n",
       "      <th>2</th>\n",
       "      <th>3</th>\n",
       "    </tr>\n",
       "  </thead>\n",
       "  <tbody>\n",
       "    <tr>\n",
       "      <th>0</th>\n",
       "      <td>1</td>\n",
       "      <td>1193</td>\n",
       "      <td>5</td>\n",
       "      <td>978300760</td>\n",
       "    </tr>\n",
       "    <tr>\n",
       "      <th>1</th>\n",
       "      <td>1</td>\n",
       "      <td>661</td>\n",
       "      <td>3</td>\n",
       "      <td>978302109</td>\n",
       "    </tr>\n",
       "    <tr>\n",
       "      <th>2</th>\n",
       "      <td>1</td>\n",
       "      <td>914</td>\n",
       "      <td>3</td>\n",
       "      <td>978301968</td>\n",
       "    </tr>\n",
       "    <tr>\n",
       "      <th>3</th>\n",
       "      <td>1</td>\n",
       "      <td>3408</td>\n",
       "      <td>4</td>\n",
       "      <td>978300275</td>\n",
       "    </tr>\n",
       "    <tr>\n",
       "      <th>4</th>\n",
       "      <td>1</td>\n",
       "      <td>2355</td>\n",
       "      <td>5</td>\n",
       "      <td>978824291</td>\n",
       "    </tr>\n",
       "  </tbody>\n",
       "</table>\n",
       "</div>"
      ],
      "text/plain": [
       "   0     1  2          3\n",
       "0  1  1193  5  978300760\n",
       "1  1   661  3  978302109\n",
       "2  1   914  3  978301968\n",
       "3  1  3408  4  978300275\n",
       "4  1  2355  5  978824291"
      ]
     },
     "execution_count": 23,
     "metadata": {},
     "output_type": "execute_result"
    }
   ],
   "source": [
    "#Loading in the ratings dataset\n",
    "ratings_df = pd.read_csv('ml-1m/ratings.dat', sep='::', header=None, engine='python', encoding = 'latin-1')\n",
    "ratings_df.head()"
   ]
  },
  {
   "cell_type": "markdown",
   "metadata": {},
   "source": [
    "So our <b>movies_df</b> variable contains a dataframe that stores a movie's unique ID number, title and genres, while our <b>ratings_df</b> variable stores a unique User ID number, a movie's ID that the user has watched, the user's rating to said movie and when the user rated that movie.\n",
    "\n",
    "Let's now rename the columns in these dataframes so we can better convey their data more intuitively:"
   ]
  },
  {
   "cell_type": "code",
   "execution_count": 25,
   "metadata": {},
   "outputs": [
    {
     "data": {
      "text/html": [
       "<div>\n",
       "<style scoped>\n",
       "    .dataframe tbody tr th:only-of-type {\n",
       "        vertical-align: middle;\n",
       "    }\n",
       "\n",
       "    .dataframe tbody tr th {\n",
       "        vertical-align: top;\n",
       "    }\n",
       "\n",
       "    .dataframe thead th {\n",
       "        text-align: right;\n",
       "    }\n",
       "</style>\n",
       "<table border=\"1\" class=\"dataframe\">\n",
       "  <thead>\n",
       "    <tr style=\"text-align: right;\">\n",
       "      <th></th>\n",
       "      <th>MovieID</th>\n",
       "      <th>Title</th>\n",
       "      <th>Genres</th>\n",
       "    </tr>\n",
       "  </thead>\n",
       "  <tbody>\n",
       "    <tr>\n",
       "      <th>0</th>\n",
       "      <td>1</td>\n",
       "      <td>Toy Story (1995)</td>\n",
       "      <td>Animation|Children's|Comedy</td>\n",
       "    </tr>\n",
       "    <tr>\n",
       "      <th>1</th>\n",
       "      <td>2</td>\n",
       "      <td>Jumanji (1995)</td>\n",
       "      <td>Adventure|Children's|Fantasy</td>\n",
       "    </tr>\n",
       "    <tr>\n",
       "      <th>2</th>\n",
       "      <td>3</td>\n",
       "      <td>Grumpier Old Men (1995)</td>\n",
       "      <td>Comedy|Romance</td>\n",
       "    </tr>\n",
       "    <tr>\n",
       "      <th>3</th>\n",
       "      <td>4</td>\n",
       "      <td>Waiting to Exhale (1995)</td>\n",
       "      <td>Comedy|Drama</td>\n",
       "    </tr>\n",
       "    <tr>\n",
       "      <th>4</th>\n",
       "      <td>5</td>\n",
       "      <td>Father of the Bride Part II (1995)</td>\n",
       "      <td>Comedy</td>\n",
       "    </tr>\n",
       "  </tbody>\n",
       "</table>\n",
       "</div>"
      ],
      "text/plain": [
       "   MovieID                               Title                        Genres\n",
       "0        1                    Toy Story (1995)   Animation|Children's|Comedy\n",
       "1        2                      Jumanji (1995)  Adventure|Children's|Fantasy\n",
       "2        3             Grumpier Old Men (1995)                Comedy|Romance\n",
       "3        4            Waiting to Exhale (1995)                  Comedy|Drama\n",
       "4        5  Father of the Bride Part II (1995)                        Comedy"
      ]
     },
     "execution_count": 25,
     "metadata": {},
     "output_type": "execute_result"
    }
   ],
   "source": [
    "movies_df.columns = ['MovieID', 'Title', 'Genres']\n",
    "movies_df.head()"
   ]
  },
  {
   "cell_type": "markdown",
   "metadata": {},
   "source": [
    "And our final ratings_df:"
   ]
  },
  {
   "cell_type": "code",
   "execution_count": 27,
   "metadata": {
    "scrolled": true
   },
   "outputs": [
    {
     "data": {
      "text/html": [
       "<div>\n",
       "<style scoped>\n",
       "    .dataframe tbody tr th:only-of-type {\n",
       "        vertical-align: middle;\n",
       "    }\n",
       "\n",
       "    .dataframe tbody tr th {\n",
       "        vertical-align: top;\n",
       "    }\n",
       "\n",
       "    .dataframe thead th {\n",
       "        text-align: right;\n",
       "    }\n",
       "</style>\n",
       "<table border=\"1\" class=\"dataframe\">\n",
       "  <thead>\n",
       "    <tr style=\"text-align: right;\">\n",
       "      <th></th>\n",
       "      <th>UserID</th>\n",
       "      <th>MovieID</th>\n",
       "      <th>Rating</th>\n",
       "      <th>Timestamp</th>\n",
       "    </tr>\n",
       "  </thead>\n",
       "  <tbody>\n",
       "    <tr>\n",
       "      <th>0</th>\n",
       "      <td>1</td>\n",
       "      <td>1193</td>\n",
       "      <td>5</td>\n",
       "      <td>978300760</td>\n",
       "    </tr>\n",
       "    <tr>\n",
       "      <th>1</th>\n",
       "      <td>1</td>\n",
       "      <td>661</td>\n",
       "      <td>3</td>\n",
       "      <td>978302109</td>\n",
       "    </tr>\n",
       "    <tr>\n",
       "      <th>2</th>\n",
       "      <td>1</td>\n",
       "      <td>914</td>\n",
       "      <td>3</td>\n",
       "      <td>978301968</td>\n",
       "    </tr>\n",
       "    <tr>\n",
       "      <th>3</th>\n",
       "      <td>1</td>\n",
       "      <td>3408</td>\n",
       "      <td>4</td>\n",
       "      <td>978300275</td>\n",
       "    </tr>\n",
       "    <tr>\n",
       "      <th>4</th>\n",
       "      <td>1</td>\n",
       "      <td>2355</td>\n",
       "      <td>5</td>\n",
       "      <td>978824291</td>\n",
       "    </tr>\n",
       "  </tbody>\n",
       "</table>\n",
       "</div>"
      ],
      "text/plain": [
       "   UserID  MovieID  Rating  Timestamp\n",
       "0       1     1193       5  978300760\n",
       "1       1      661       3  978302109\n",
       "2       1      914       3  978301968\n",
       "3       1     3408       4  978300275\n",
       "4       1     2355       5  978824291"
      ]
     },
     "execution_count": 27,
     "metadata": {},
     "output_type": "execute_result"
    }
   ],
   "source": [
    "ratings_df.columns = ['UserID', 'MovieID', 'Rating', 'Timestamp']\n",
    "ratings_df.head()"
   ]
  },
  {
   "cell_type": "markdown",
   "metadata": {},
   "source": [
    "<hr>"
   ]
  },
  {
   "cell_type": "markdown",
   "metadata": {},
   "source": [
    "<a id=\"ref3\"></a>\n",
    "<h2>The Restricted Boltzmann Machine model</h2>"
   ]
  },
  {
   "cell_type": "markdown",
   "metadata": {},
   "source": [
    "<img src=\"https://github.com/fawazsiddiqi/recommendation-system-with-a-Restricted-Boltzmann-Machine-using-tensorflow/blob/master/images/films.png?raw=true\"  width=\"300\">\n",
    "<br>\n",
    "The Restricted Boltzmann Machine model has two layers of neurons, one of which is what we call a visible input layer and the other is called a hidden layer. The hidden layer is used to learn features from the information fed through the input layer. For our model, the input is going to contain X neurons, where X is the amount of movies in our dataset. Each of these neurons will possess a normalized rating value varying from 0 to 1, where 0 meaning that a user has not watched that movie and the closer the value is to 1, the more the user likes the movie that neuron's representing. These normalized values, of course, will be extracted and normalized from the ratings dataset.\n",
    "\n",
    "After passing in the input, we train the RBM on it and have the hidden layer learn its features. These features are what we use to reconstruct the input, which in our case, will predict the ratings for movies that user hasn't watched, which is exactly what we can use to recommend movies!\n",
    "\n",
    "We will now begin to format our dataset to follow the model's expected input."
   ]
  },
  {
   "cell_type": "markdown",
   "metadata": {},
   "source": [
    "<h3>Formatting the Data</h3>"
   ]
  },
  {
   "cell_type": "markdown",
   "metadata": {},
   "source": [
    "First let's see how many movies we have and see if the movie ID's correspond with that value:"
   ]
  },
  {
   "cell_type": "code",
   "execution_count": 29,
   "metadata": {},
   "outputs": [
    {
     "data": {
      "text/plain": [
       "3883"
      ]
     },
     "execution_count": 29,
     "metadata": {},
     "output_type": "execute_result"
    }
   ],
   "source": [
    "len(movies_df)"
   ]
  },
  {
   "cell_type": "markdown",
   "metadata": {},
   "source": [
    "Now, we can start formatting the data into input for the RBM. We're going to store the normalized users ratings into as a matrix of user-rating called trX, and normalize the values."
   ]
  },
  {
   "cell_type": "code",
   "execution_count": 31,
   "metadata": {},
   "outputs": [
    {
     "data": {
      "text/html": [
       "<div>\n",
       "<style scoped>\n",
       "    .dataframe tbody tr th:only-of-type {\n",
       "        vertical-align: middle;\n",
       "    }\n",
       "\n",
       "    .dataframe tbody tr th {\n",
       "        vertical-align: top;\n",
       "    }\n",
       "\n",
       "    .dataframe thead th {\n",
       "        text-align: right;\n",
       "    }\n",
       "</style>\n",
       "<table border=\"1\" class=\"dataframe\">\n",
       "  <thead>\n",
       "    <tr style=\"text-align: right;\">\n",
       "      <th>MovieID</th>\n",
       "      <th>1</th>\n",
       "      <th>2</th>\n",
       "      <th>3</th>\n",
       "      <th>4</th>\n",
       "      <th>5</th>\n",
       "      <th>6</th>\n",
       "      <th>7</th>\n",
       "      <th>8</th>\n",
       "      <th>9</th>\n",
       "      <th>10</th>\n",
       "      <th>...</th>\n",
       "      <th>3943</th>\n",
       "      <th>3944</th>\n",
       "      <th>3945</th>\n",
       "      <th>3946</th>\n",
       "      <th>3947</th>\n",
       "      <th>3948</th>\n",
       "      <th>3949</th>\n",
       "      <th>3950</th>\n",
       "      <th>3951</th>\n",
       "      <th>3952</th>\n",
       "    </tr>\n",
       "    <tr>\n",
       "      <th>UserID</th>\n",
       "      <th></th>\n",
       "      <th></th>\n",
       "      <th></th>\n",
       "      <th></th>\n",
       "      <th></th>\n",
       "      <th></th>\n",
       "      <th></th>\n",
       "      <th></th>\n",
       "      <th></th>\n",
       "      <th></th>\n",
       "      <th></th>\n",
       "      <th></th>\n",
       "      <th></th>\n",
       "      <th></th>\n",
       "      <th></th>\n",
       "      <th></th>\n",
       "      <th></th>\n",
       "      <th></th>\n",
       "      <th></th>\n",
       "      <th></th>\n",
       "      <th></th>\n",
       "    </tr>\n",
       "  </thead>\n",
       "  <tbody>\n",
       "    <tr>\n",
       "      <th>1</th>\n",
       "      <td>5.0</td>\n",
       "      <td>NaN</td>\n",
       "      <td>NaN</td>\n",
       "      <td>NaN</td>\n",
       "      <td>NaN</td>\n",
       "      <td>NaN</td>\n",
       "      <td>NaN</td>\n",
       "      <td>NaN</td>\n",
       "      <td>NaN</td>\n",
       "      <td>NaN</td>\n",
       "      <td>...</td>\n",
       "      <td>NaN</td>\n",
       "      <td>NaN</td>\n",
       "      <td>NaN</td>\n",
       "      <td>NaN</td>\n",
       "      <td>NaN</td>\n",
       "      <td>NaN</td>\n",
       "      <td>NaN</td>\n",
       "      <td>NaN</td>\n",
       "      <td>NaN</td>\n",
       "      <td>NaN</td>\n",
       "    </tr>\n",
       "    <tr>\n",
       "      <th>2</th>\n",
       "      <td>NaN</td>\n",
       "      <td>NaN</td>\n",
       "      <td>NaN</td>\n",
       "      <td>NaN</td>\n",
       "      <td>NaN</td>\n",
       "      <td>NaN</td>\n",
       "      <td>NaN</td>\n",
       "      <td>NaN</td>\n",
       "      <td>NaN</td>\n",
       "      <td>NaN</td>\n",
       "      <td>...</td>\n",
       "      <td>NaN</td>\n",
       "      <td>NaN</td>\n",
       "      <td>NaN</td>\n",
       "      <td>NaN</td>\n",
       "      <td>NaN</td>\n",
       "      <td>NaN</td>\n",
       "      <td>NaN</td>\n",
       "      <td>NaN</td>\n",
       "      <td>NaN</td>\n",
       "      <td>NaN</td>\n",
       "    </tr>\n",
       "    <tr>\n",
       "      <th>3</th>\n",
       "      <td>NaN</td>\n",
       "      <td>NaN</td>\n",
       "      <td>NaN</td>\n",
       "      <td>NaN</td>\n",
       "      <td>NaN</td>\n",
       "      <td>NaN</td>\n",
       "      <td>NaN</td>\n",
       "      <td>NaN</td>\n",
       "      <td>NaN</td>\n",
       "      <td>NaN</td>\n",
       "      <td>...</td>\n",
       "      <td>NaN</td>\n",
       "      <td>NaN</td>\n",
       "      <td>NaN</td>\n",
       "      <td>NaN</td>\n",
       "      <td>NaN</td>\n",
       "      <td>NaN</td>\n",
       "      <td>NaN</td>\n",
       "      <td>NaN</td>\n",
       "      <td>NaN</td>\n",
       "      <td>NaN</td>\n",
       "    </tr>\n",
       "    <tr>\n",
       "      <th>4</th>\n",
       "      <td>NaN</td>\n",
       "      <td>NaN</td>\n",
       "      <td>NaN</td>\n",
       "      <td>NaN</td>\n",
       "      <td>NaN</td>\n",
       "      <td>NaN</td>\n",
       "      <td>NaN</td>\n",
       "      <td>NaN</td>\n",
       "      <td>NaN</td>\n",
       "      <td>NaN</td>\n",
       "      <td>...</td>\n",
       "      <td>NaN</td>\n",
       "      <td>NaN</td>\n",
       "      <td>NaN</td>\n",
       "      <td>NaN</td>\n",
       "      <td>NaN</td>\n",
       "      <td>NaN</td>\n",
       "      <td>NaN</td>\n",
       "      <td>NaN</td>\n",
       "      <td>NaN</td>\n",
       "      <td>NaN</td>\n",
       "    </tr>\n",
       "    <tr>\n",
       "      <th>5</th>\n",
       "      <td>NaN</td>\n",
       "      <td>NaN</td>\n",
       "      <td>NaN</td>\n",
       "      <td>NaN</td>\n",
       "      <td>NaN</td>\n",
       "      <td>2.0</td>\n",
       "      <td>NaN</td>\n",
       "      <td>NaN</td>\n",
       "      <td>NaN</td>\n",
       "      <td>NaN</td>\n",
       "      <td>...</td>\n",
       "      <td>NaN</td>\n",
       "      <td>NaN</td>\n",
       "      <td>NaN</td>\n",
       "      <td>NaN</td>\n",
       "      <td>NaN</td>\n",
       "      <td>NaN</td>\n",
       "      <td>NaN</td>\n",
       "      <td>NaN</td>\n",
       "      <td>NaN</td>\n",
       "      <td>NaN</td>\n",
       "    </tr>\n",
       "  </tbody>\n",
       "</table>\n",
       "<p>5 rows × 3706 columns</p>\n",
       "</div>"
      ],
      "text/plain": [
       "MovieID  1     2     3     4     5     6     7     8     9     10    ...  \\\n",
       "UserID                                                               ...   \n",
       "1         5.0   NaN   NaN   NaN   NaN   NaN   NaN   NaN   NaN   NaN  ...   \n",
       "2         NaN   NaN   NaN   NaN   NaN   NaN   NaN   NaN   NaN   NaN  ...   \n",
       "3         NaN   NaN   NaN   NaN   NaN   NaN   NaN   NaN   NaN   NaN  ...   \n",
       "4         NaN   NaN   NaN   NaN   NaN   NaN   NaN   NaN   NaN   NaN  ...   \n",
       "5         NaN   NaN   NaN   NaN   NaN   2.0   NaN   NaN   NaN   NaN  ...   \n",
       "\n",
       "MovieID  3943  3944  3945  3946  3947  3948  3949  3950  3951  3952  \n",
       "UserID                                                               \n",
       "1         NaN   NaN   NaN   NaN   NaN   NaN   NaN   NaN   NaN   NaN  \n",
       "2         NaN   NaN   NaN   NaN   NaN   NaN   NaN   NaN   NaN   NaN  \n",
       "3         NaN   NaN   NaN   NaN   NaN   NaN   NaN   NaN   NaN   NaN  \n",
       "4         NaN   NaN   NaN   NaN   NaN   NaN   NaN   NaN   NaN   NaN  \n",
       "5         NaN   NaN   NaN   NaN   NaN   NaN   NaN   NaN   NaN   NaN  \n",
       "\n",
       "[5 rows x 3706 columns]"
      ]
     },
     "execution_count": 31,
     "metadata": {},
     "output_type": "execute_result"
    }
   ],
   "source": [
    "user_rating_df = ratings_df.pivot(index='UserID', columns='MovieID', values='Rating')\n",
    "user_rating_df.head()"
   ]
  },
  {
   "cell_type": "markdown",
   "metadata": {},
   "source": [
    "Lets normalize it now:"
   ]
  },
  {
   "cell_type": "code",
   "execution_count": 67,
   "metadata": {},
   "outputs": [
    {
     "data": {
      "text/plain": [
       "6040"
      ]
     },
     "execution_count": 67,
     "metadata": {},
     "output_type": "execute_result"
    }
   ],
   "source": [
    "len(user_rating_df)"
   ]
  },
  {
   "cell_type": "code",
   "execution_count": 33,
   "metadata": {},
   "outputs": [
    {
     "data": {
      "text/plain": [
       "array([[1., 0., 0., ..., 0., 0., 0.],\n",
       "       [0., 0., 0., ..., 0., 0., 0.],\n",
       "       [0., 0., 0., ..., 0., 0., 0.],\n",
       "       [0., 0., 0., ..., 0., 0., 0.],\n",
       "       [0., 0., 0., ..., 0., 0., 0.]])"
      ]
     },
     "execution_count": 33,
     "metadata": {},
     "output_type": "execute_result"
    }
   ],
   "source": [
    "norm_user_rating_df = user_rating_df.fillna(0) / 5.0\n",
    "trX = norm_user_rating_df.values\n",
    "trX[0:5]"
   ]
  },
  {
   "cell_type": "markdown",
   "metadata": {},
   "source": [
    "<hr>"
   ]
  },
  {
   "cell_type": "markdown",
   "metadata": {},
   "source": [
    "<a id=\"ref4\"></a>\n",
    "<h2>Setting the Model's Parameters</h2>"
   ]
  },
  {
   "cell_type": "markdown",
   "metadata": {},
   "source": [
    "Next, let's start building our RBM with TensorFlow. We'll begin by first determining the number of neurons in the hidden layers and then creating placeholder variables for storing our visible layer biases, hidden layer biases and weights that connects the hidden layer with the visible layer. We will be arbitrarily setting the number of neurons in the hidden layers to 20. You can freely set this value to any number you want since each neuron in the hidden layer will end up learning a feature."
   ]
  },
  {
   "cell_type": "code",
   "execution_count": 35,
   "metadata": {},
   "outputs": [],
   "source": [
    "hiddenUnits = 20\n",
    "visibleUnits =  len(user_rating_df.columns)\n",
    "\n",
    "vb = tf.Variable(tf.zeros([visibleUnits]), tf.float32) #Number of unique movies\n",
    "hb = tf.Variable(tf.zeros([hiddenUnits]), tf.float32) #Number of features we're going to learn\n",
    "W = tf.Variable(tf.zeros([visibleUnits, hiddenUnits]), tf.float32)"
   ]
  },
  {
   "cell_type": "markdown",
   "metadata": {},
   "source": [
    "We then move on to creating the visible and hidden layer units and setting their activation functions. In this case, we will be using the <code>tf.sigmoid</code> and <code>tf.relu</code> functions as nonlinear activations since it is commonly used in RBM's."
   ]
  },
  {
   "cell_type": "code",
   "execution_count": 37,
   "metadata": {},
   "outputs": [
    {
     "data": {
      "text/plain": [
       "<tf.Tensor: shape=(1, 20), dtype=float32, numpy=\n",
       "array([[0., 0., 0., 0., 0., 0., 0., 0., 0., 0., 0., 0., 0., 0., 0., 0.,\n",
       "        0., 0., 0., 0.]], dtype=float32)>"
      ]
     },
     "execution_count": 37,
     "metadata": {},
     "output_type": "execute_result"
    }
   ],
   "source": [
    "v0 = tf.zeros([visibleUnits], tf.float32)\n",
    "#testing to see if the matrix product works\n",
    "tf.matmul([v0], W)"
   ]
  },
  {
   "cell_type": "code",
   "execution_count": 39,
   "metadata": {},
   "outputs": [
    {
     "name": "stdout",
     "output_type": "stream",
     "text": [
      "first 15 hidden states:  tf.Tensor([1. 1. 1. 1. 0. 1. 1. 0. 1. 0. 1. 0. 1. 0. 1.], shape=(15,), dtype=float32)\n",
      "hidden state shape:  (1, 20)\n",
      "v0 state shape:   (3706,)\n",
      "v1 state shape:   (3706,)\n"
     ]
    }
   ],
   "source": [
    "#Phase 1: Input Processing\n",
    "#defining a function to return only the generated hidden states \n",
    "def hidden_layer(v0_state, W, hb):\n",
    "    h0_prob = tf.nn.sigmoid(tf.matmul([v0_state], W) + hb)  #probabilities of the hidden units\n",
    "    h0_state = tf.nn.relu(tf.sign(h0_prob - tf.random.uniform(tf.shape(h0_prob)))) #sample_h_given_X\n",
    "    return h0_state\n",
    "\n",
    "#printing output of zeros input\n",
    "h0 = hidden_layer(v0, W, hb)\n",
    "print(\"first 15 hidden states: \", h0[0][0:15])\n",
    "\n",
    "def reconstructed_output(h0_state, W, vb):\n",
    "    v1_prob = tf.nn.sigmoid(tf.matmul(h0_state, tf.transpose(W)) + vb) \n",
    "    v1_state = tf.nn.relu(tf.sign(v1_prob - tf.random.uniform(tf.shape(v1_prob)))) #sample_v_given_h\n",
    "    return v1_state[0]\n",
    "\n",
    "\n",
    "v1 = reconstructed_output(h0, W, vb)\n",
    "print(\"hidden state shape: \", h0.shape)\n",
    "print(\"v0 state shape:  \", v0.shape)\n",
    "print(\"v1 state shape:  \", v1.shape)"
   ]
  },
  {
   "cell_type": "markdown",
   "metadata": {},
   "source": [
    "And set the error function, which in this case will be the Mean Absolute Error Function."
   ]
  },
  {
   "cell_type": "code",
   "execution_count": 41,
   "metadata": {},
   "outputs": [
    {
     "name": "stdout",
     "output_type": "stream",
     "text": [
      "error 0.49595252\n"
     ]
    }
   ],
   "source": [
    "def error(v0_state, v1_state):\n",
    "    return tf.reduce_mean(tf.square(v0_state - v1_state))\n",
    "\n",
    "err = tf.reduce_mean(tf.square(v0 - v1))\n",
    "print(\"error\" , err.numpy())"
   ]
  },
  {
   "cell_type": "markdown",
   "metadata": {},
   "source": [
    "Now we train the RBM with 5 epochs with each epoch using a batchsize of 500, giving 12 batches. After training, we print out a graph with the error by epoch."
   ]
  },
  {
   "cell_type": "code",
   "execution_count": 43,
   "metadata": {},
   "outputs": [
    {
     "name": "stdout",
     "output_type": "stream",
     "text": [
      "Epoch: 1 batch #: 0  of 12 sample #: 499 reconstruction error: 0.044209\n",
      "Epoch: 1 batch #: 1  of 12 sample #: 499 reconstruction error: 0.026185\n",
      "Epoch: 1 batch #: 2  of 12 sample #: 499 reconstruction error: 0.040475\n",
      "Epoch: 1 batch #: 3  of 12 sample #: 499 reconstruction error: 0.041662\n",
      "Epoch: 1 batch #: 4  of 12 sample #: 499 reconstruction error: 0.046346\n",
      "Epoch: 1 batch #: 5  of 12 sample #: 499 reconstruction error: 0.030998\n",
      "Epoch: 1 batch #: 6  of 12 sample #: 499 reconstruction error: 0.020939\n",
      "Epoch: 1 batch #: 7  of 12 sample #: 499 reconstruction error: 0.021101\n",
      "Epoch: 1 batch #: 8  of 12 sample #: 499 reconstruction error: 0.008937\n",
      "Epoch: 1 batch #: 9  of 12 sample #: 499 reconstruction error: 0.106206\n",
      "Epoch: 1 batch #: 10  of 12 sample #: 499 reconstruction error: 0.020550\n",
      "Epoch: 1 batch #: 11  of 12 sample #: 499 reconstruction error: 0.097518\n",
      "Epoch: 1 batch #: 12  of 12 sample #: 39 reconstruction error: 0.073265\n",
      "Epoch: 2 batch #: 0  of 12 sample #: 499 reconstruction error: 0.033956\n",
      "Epoch: 2 batch #: 1  of 12 sample #: 499 reconstruction error: 0.025861\n",
      "Epoch: 2 batch #: 2  of 12 sample #: 499 reconstruction error: 0.043713\n",
      "Epoch: 2 batch #: 3  of 12 sample #: 499 reconstruction error: 0.040205\n",
      "Epoch: 2 batch #: 4  of 12 sample #: 499 reconstruction error: 0.043055\n",
      "Epoch: 2 batch #: 5  of 12 sample #: 499 reconstruction error: 0.039255\n",
      "Epoch: 2 batch #: 6  of 12 sample #: 499 reconstruction error: 0.022234\n",
      "Epoch: 2 batch #: 7  of 12 sample #: 499 reconstruction error: 0.020993\n",
      "Epoch: 2 batch #: 8  of 12 sample #: 499 reconstruction error: 0.005861\n",
      "Epoch: 2 batch #: 9  of 12 sample #: 499 reconstruction error: 0.112089\n",
      "Epoch: 2 batch #: 10  of 12 sample #: 499 reconstruction error: 0.017097\n",
      "Epoch: 2 batch #: 11  of 12 sample #: 499 reconstruction error: 0.095413\n",
      "Epoch: 2 batch #: 12  of 12 sample #: 39 reconstruction error: 0.071754\n",
      "Epoch: 3 batch #: 0  of 12 sample #: 499 reconstruction error: 0.024296\n",
      "Epoch: 3 batch #: 1  of 12 sample #: 499 reconstruction error: 0.023648\n",
      "Epoch: 3 batch #: 2  of 12 sample #: 499 reconstruction error: 0.049703\n",
      "Epoch: 3 batch #: 3  of 12 sample #: 499 reconstruction error: 0.039881\n",
      "Epoch: 3 batch #: 4  of 12 sample #: 499 reconstruction error: 0.038521\n",
      "Epoch: 3 batch #: 5  of 12 sample #: 499 reconstruction error: 0.024468\n",
      "Epoch: 3 batch #: 6  of 12 sample #: 499 reconstruction error: 0.018942\n",
      "Epoch: 3 batch #: 7  of 12 sample #: 499 reconstruction error: 0.018834\n",
      "Epoch: 3 batch #: 8  of 12 sample #: 499 reconstruction error: 0.007696\n",
      "Epoch: 3 batch #: 9  of 12 sample #: 499 reconstruction error: 0.105343\n",
      "Epoch: 3 batch #: 10  of 12 sample #: 499 reconstruction error: 0.016341\n",
      "Epoch: 3 batch #: 11  of 12 sample #: 499 reconstruction error: 0.100216\n",
      "Epoch: 3 batch #: 12  of 12 sample #: 39 reconstruction error: 0.062148\n",
      "Epoch: 4 batch #: 0  of 12 sample #: 499 reconstruction error: 0.023324\n",
      "Epoch: 4 batch #: 1  of 12 sample #: 499 reconstruction error: 0.025267\n",
      "Epoch: 4 batch #: 2  of 12 sample #: 499 reconstruction error: 0.051916\n",
      "Epoch: 4 batch #: 3  of 12 sample #: 499 reconstruction error: 0.035564\n",
      "Epoch: 4 batch #: 4  of 12 sample #: 499 reconstruction error: 0.049854\n",
      "Epoch: 4 batch #: 5  of 12 sample #: 499 reconstruction error: 0.018694\n",
      "Epoch: 4 batch #: 6  of 12 sample #: 499 reconstruction error: 0.021533\n",
      "Epoch: 4 batch #: 7  of 12 sample #: 499 reconstruction error: 0.021317\n",
      "Epoch: 4 batch #: 8  of 12 sample #: 499 reconstruction error: 0.006616\n",
      "Epoch: 4 batch #: 9  of 12 sample #: 499 reconstruction error: 0.105451\n",
      "Epoch: 4 batch #: 10  of 12 sample #: 499 reconstruction error: 0.018500\n",
      "Epoch: 4 batch #: 11  of 12 sample #: 499 reconstruction error: 0.097410\n",
      "Epoch: 4 batch #: 12  of 12 sample #: 39 reconstruction error: 0.061500\n",
      "Epoch: 5 batch #: 0  of 12 sample #: 499 reconstruction error: 0.031905\n",
      "Epoch: 5 batch #: 1  of 12 sample #: 499 reconstruction error: 0.021813\n",
      "Epoch: 5 batch #: 2  of 12 sample #: 499 reconstruction error: 0.028440\n",
      "Epoch: 5 batch #: 3  of 12 sample #: 499 reconstruction error: 0.041176\n",
      "Epoch: 5 batch #: 4  of 12 sample #: 499 reconstruction error: 0.046616\n",
      "Epoch: 5 batch #: 5  of 12 sample #: 499 reconstruction error: 0.025979\n",
      "Epoch: 5 batch #: 6  of 12 sample #: 499 reconstruction error: 0.022828\n",
      "Epoch: 5 batch #: 7  of 12 sample #: 499 reconstruction error: 0.014679\n",
      "Epoch: 5 batch #: 8  of 12 sample #: 499 reconstruction error: 0.009045\n",
      "Epoch: 5 batch #: 9  of 12 sample #: 499 reconstruction error: 0.108473\n",
      "Epoch: 5 batch #: 10  of 12 sample #: 499 reconstruction error: 0.020604\n",
      "Epoch: 5 batch #: 11  of 12 sample #: 499 reconstruction error: 0.099676\n",
      "Epoch: 5 batch #: 12  of 12 sample #: 39 reconstruction error: 0.061069\n"
     ]
    },
    {
     "data": {
      "image/png": "[encoded data removed]",
      "text/plain": [
       "<Figure size 640x480 with 1 Axes>"
      ]
     },
     "metadata": {},
     "output_type": "display_data"
    }
   ],
   "source": [
    "epochs = 5\n",
    "batchsize = 500\n",
    "errors = []\n",
    "weights = []\n",
    "K=1\n",
    "alpha = 0.1\n",
    "\n",
    "#creating datasets\n",
    "train_ds = \\\n",
    "    tf.data.Dataset.from_tensor_slices((np.float32(trX))).batch(batchsize)\n",
    "\n",
    "\n",
    "\n",
    "#for i in range(epochs):\n",
    "#    for start, end in zip( range(0, len(trX), batchsize), range(batchsize, len(trX), batchsize)):\n",
    "#        batch = trX[start:end]\n",
    "#        cur_w = sess.run(update_w, feed_dict={v0: batch, W: prv_w, vb: prv_vb, hb: prv_hb})\n",
    "#        cur_vb = sess.run(update_vb, feed_dict={v0: batch, W: prv_w, vb: prv_vb, hb: prv_hb})\n",
    "#        cur_nb = sess.run(update_hb, feed_dict={v0: batch, W: prv_w, vb: prv_vb, hb: prv_hb})\n",
    "#        prv_w = cur_w\n",
    "#        prv_vb = cur_vb\n",
    "#        prv_hb = cur_hb\n",
    "#    errors.append(sess.run(err_sum, feed_dict={v0: trX, W: cur_w, vb: cur_vb, hb: cur_hb}))\n",
    "#    print (errors[-1])\n",
    "v0_state=v0\n",
    "for epoch in range(epochs):\n",
    "    batch_number = 0\n",
    "    for batch_x in train_ds:\n",
    "\n",
    "        for i_sample in range(len(batch_x)):           \n",
    "            for k in range(K):\n",
    "                v0_state = batch_x[i_sample]\n",
    "                h0_state = hidden_layer(v0_state, W, hb)\n",
    "                v1_state = reconstructed_output(h0_state, W, vb)\n",
    "                h1_state = hidden_layer(v1_state, W, hb)\n",
    "\n",
    "                delta_W = tf.matmul(tf.transpose([v0_state]), h0_state) - tf.matmul(tf.transpose([v1_state]), h1_state)\n",
    "                W = W + alpha * delta_W\n",
    "\n",
    "                vb = vb + alpha * tf.reduce_mean(v0_state - v1_state, 0)\n",
    "                hb = hb + alpha * tf.reduce_mean(h0_state - h1_state, 0) \n",
    "\n",
    "                v0_state = v1_state\n",
    "\n",
    "            if i_sample == len(batch_x)-1:\n",
    "                err = error(batch_x[i_sample], v1_state)\n",
    "                errors.append(err)\n",
    "                weights.append(W)\n",
    "                print ( 'Epoch: %d' % (epoch + 1), \n",
    "                       \"batch #: %i \" % batch_number, \"of %i\" % (len(trX)/batchsize), \n",
    "                       \"sample #: %i\" % i_sample,\n",
    "                       'reconstruction error: %f' % err)\n",
    "        batch_number += 1\n",
    "\n",
    "\n",
    "\n",
    "\n",
    "plt.plot(errors)\n",
    "plt.ylabel('Error')\n",
    "plt.xlabel('Epoch')\n",
    "plt.show()"
   ]
  },
  {
   "cell_type": "markdown",
   "metadata": {},
   "source": [
    "<hr>"
   ]
  },
  {
   "cell_type": "markdown",
   "metadata": {},
   "source": [
    "<a id=\"ref5\"></a>\n",
    "<h2>Recommendation</h2>"
   ]
  },
  {
   "cell_type": "markdown",
   "metadata": {},
   "source": [
    "We can now predict movies that an arbitrarily selected user might like. This can be accomplished by feeding in the user's watched movie preferences into the RBM and then reconstructing the input. The values that the RBM gives us will attempt to estimate the user's preferences for movies that he hasn't watched based on the preferences of the users that the RBM was trained on."
   ]
  },
  {
   "cell_type": "markdown",
   "metadata": {},
   "source": [
    "Lets first select a <b>User ID</b> of our mock user:"
   ]
  },
  {
   "cell_type": "code",
   "execution_count": 45,
   "metadata": {},
   "outputs": [],
   "source": [
    "mock_user_id = 215"
   ]
  },
  {
   "cell_type": "code",
   "execution_count": 47,
   "metadata": {},
   "outputs": [
    {
     "name": "stdout",
     "output_type": "stream",
     "text": [
      "tf.Tensor([0.8 0.  0.  ... 0.  0.  0. ], shape=(3706,), dtype=float32)\n"
     ]
    },
    {
     "data": {
      "text/plain": [
       "TensorShape([3706])"
      ]
     },
     "execution_count": 47,
     "metadata": {},
     "output_type": "execute_result"
    }
   ],
   "source": [
    "#Selecting the input user\n",
    "inputUser = trX[mock_user_id-1].reshape(1, -1)\n",
    "\n",
    "inputUser = tf.convert_to_tensor(trX[mock_user_id-1],\"float32\")\n",
    "v0 = inputUser\n",
    "\n",
    "print(v0)\n",
    "v0.shape"
   ]
  },
  {
   "cell_type": "code",
   "execution_count": 49,
   "metadata": {},
   "outputs": [
    {
     "data": {
      "text/plain": [
       "TensorShape([3706])"
      ]
     },
     "execution_count": 49,
     "metadata": {},
     "output_type": "execute_result"
    }
   ],
   "source": [
    "v0test = tf.zeros([visibleUnits], tf.float32)\n",
    "v0test.shape"
   ]
  },
  {
   "cell_type": "code",
   "execution_count": 51,
   "metadata": {},
   "outputs": [
    {
     "name": "stdout",
     "output_type": "stream",
     "text": [
      "tf.Tensor(\n",
      "[1.3893415e-01 6.6992134e-02 6.0792151e-04 ... 1.7256032e-04 2.2226845e-05\n",
      " 4.3448032e-04], shape=(3706,), dtype=float32)\n"
     ]
    }
   ],
   "source": [
    "#Feeding in the user and reconstructing the input\n",
    "\n",
    "hh0 = tf.nn.sigmoid(tf.matmul([v0], W) + hb)\n",
    "\n",
    "vv1 = tf.nn.sigmoid(tf.matmul(hh0, tf.transpose(W)) + vb)\n",
    "\n",
    "rec = vv1\n",
    "\n",
    "tf.maximum(rec,1)\n",
    "for i in vv1:\n",
    "    print(i)"
   ]
  },
  {
   "cell_type": "code",
   "execution_count": 63,
   "metadata": {},
   "outputs": [
    {
     "data": {
      "text/plain": [
       "<tf.Tensor: shape=(3706,), dtype=float32, numpy=\n",
       "array([1.3893415e-01, 6.6992134e-02, 6.0792151e-04, ..., 1.7256032e-04,\n",
       "       2.2226845e-05, 4.3448032e-04], dtype=float32)>"
      ]
     },
     "execution_count": 63,
     "metadata": {},
     "output_type": "execute_result"
    }
   ],
   "source": [
    "rec[0]"
   ]
  },
  {
   "cell_type": "code",
   "execution_count": 65,
   "metadata": {},
   "outputs": [
    {
     "data": {
      "text/plain": [
       "<tf.Tensor: shape=(1, 3706), dtype=float32, numpy=\n",
       "array([[1.3893415e-01, 6.6992134e-02, 6.0792151e-04, ..., 1.7256032e-04,\n",
       "        2.2226845e-05, 4.3448032e-04]], dtype=float32)>"
      ]
     },
     "execution_count": 65,
     "metadata": {},
     "output_type": "execute_result"
    }
   ],
   "source": [
    "vv1"
   ]
  },
  {
   "cell_type": "markdown",
   "metadata": {},
   "source": [
    "We can then list the 20 most recommended movies for our mock user by sorting it by their scores given by our model."
   ]
  },
  {
   "cell_type": "code",
   "execution_count": 53,
   "metadata": {},
   "outputs": [
    {
     "data": {
      "text/html": [
       "<div>\n",
       "<style scoped>\n",
       "    .dataframe tbody tr th:only-of-type {\n",
       "        vertical-align: middle;\n",
       "    }\n",
       "\n",
       "    .dataframe tbody tr th {\n",
       "        vertical-align: top;\n",
       "    }\n",
       "\n",
       "    .dataframe thead th {\n",
       "        text-align: right;\n",
       "    }\n",
       "</style>\n",
       "<table border=\"1\" class=\"dataframe\">\n",
       "  <thead>\n",
       "    <tr style=\"text-align: right;\">\n",
       "      <th></th>\n",
       "      <th>MovieID</th>\n",
       "      <th>Title</th>\n",
       "      <th>Genres</th>\n",
       "      <th>RecommendationScore</th>\n",
       "    </tr>\n",
       "  </thead>\n",
       "  <tbody>\n",
       "    <tr>\n",
       "      <th>1192</th>\n",
       "      <td>1210</td>\n",
       "      <td>Star Wars: Episode VI - Return of the Jedi (1983)</td>\n",
       "      <td>Action|Adventure|Romance|Sci-Fi|War</td>\n",
       "      <td>0.771618</td>\n",
       "    </tr>\n",
       "    <tr>\n",
       "      <th>257</th>\n",
       "      <td>260</td>\n",
       "      <td>Star Wars: Episode IV - A New Hope (1977)</td>\n",
       "      <td>Action|Adventure|Fantasy|Sci-Fi</td>\n",
       "      <td>0.746047</td>\n",
       "    </tr>\n",
       "    <tr>\n",
       "      <th>1220</th>\n",
       "      <td>1240</td>\n",
       "      <td>Terminator, The (1984)</td>\n",
       "      <td>Action|Sci-Fi|Thriller</td>\n",
       "      <td>0.608150</td>\n",
       "    </tr>\n",
       "    <tr>\n",
       "      <th>1250</th>\n",
       "      <td>1270</td>\n",
       "      <td>Back to the Future (1985)</td>\n",
       "      <td>Comedy|Sci-Fi</td>\n",
       "      <td>0.551689</td>\n",
       "    </tr>\n",
       "    <tr>\n",
       "      <th>1271</th>\n",
       "      <td>1291</td>\n",
       "      <td>Indiana Jones and the Last Crusade (1989)</td>\n",
       "      <td>Action|Adventure</td>\n",
       "      <td>0.510857</td>\n",
       "    </tr>\n",
       "    <tr>\n",
       "      <th>1196</th>\n",
       "      <td>1214</td>\n",
       "      <td>Alien (1979)</td>\n",
       "      <td>Action|Horror|Sci-Fi|Thriller</td>\n",
       "      <td>0.508325</td>\n",
       "    </tr>\n",
       "    <tr>\n",
       "      <th>108</th>\n",
       "      <td>110</td>\n",
       "      <td>Braveheart (1995)</td>\n",
       "      <td>Action|Drama|War</td>\n",
       "      <td>0.506023</td>\n",
       "    </tr>\n",
       "    <tr>\n",
       "      <th>2502</th>\n",
       "      <td>2571</td>\n",
       "      <td>Matrix, The (1999)</td>\n",
       "      <td>Action|Sci-Fi|Thriller</td>\n",
       "      <td>0.493729</td>\n",
       "    </tr>\n",
       "    <tr>\n",
       "      <th>1226</th>\n",
       "      <td>1246</td>\n",
       "      <td>Dead Poets Society (1989)</td>\n",
       "      <td>Drama</td>\n",
       "      <td>0.464721</td>\n",
       "    </tr>\n",
       "    <tr>\n",
       "      <th>1178</th>\n",
       "      <td>1196</td>\n",
       "      <td>Star Wars: Episode V - The Empire Strikes Back...</td>\n",
       "      <td>Action|Adventure|Drama|Sci-Fi|War</td>\n",
       "      <td>0.450785</td>\n",
       "    </tr>\n",
       "    <tr>\n",
       "      <th>325</th>\n",
       "      <td>329</td>\n",
       "      <td>Star Trek: Generations (1994)</td>\n",
       "      <td>Action|Adventure|Sci-Fi</td>\n",
       "      <td>0.439494</td>\n",
       "    </tr>\n",
       "    <tr>\n",
       "      <th>453</th>\n",
       "      <td>457</td>\n",
       "      <td>Fugitive, The (1993)</td>\n",
       "      <td>Action|Thriller</td>\n",
       "      <td>0.428248</td>\n",
       "    </tr>\n",
       "    <tr>\n",
       "      <th>2559</th>\n",
       "      <td>2628</td>\n",
       "      <td>Star Wars: Episode I - The Phantom Menace (1999)</td>\n",
       "      <td>Action|Adventure|Fantasy|Sci-Fi</td>\n",
       "      <td>0.420013</td>\n",
       "    </tr>\n",
       "    <tr>\n",
       "      <th>1023</th>\n",
       "      <td>1036</td>\n",
       "      <td>Die Hard (1988)</td>\n",
       "      <td>Action|Thriller</td>\n",
       "      <td>0.384189</td>\n",
       "    </tr>\n",
       "    <tr>\n",
       "      <th>1353</th>\n",
       "      <td>1374</td>\n",
       "      <td>Star Trek: The Wrath of Khan (1982)</td>\n",
       "      <td>Action|Adventure|Sci-Fi</td>\n",
       "      <td>0.383312</td>\n",
       "    </tr>\n",
       "    <tr>\n",
       "      <th>1568</th>\n",
       "      <td>1610</td>\n",
       "      <td>Hunt for Red October, The (1990)</td>\n",
       "      <td>Action|Thriller</td>\n",
       "      <td>0.382512</td>\n",
       "    </tr>\n",
       "    <tr>\n",
       "      <th>1081</th>\n",
       "      <td>1097</td>\n",
       "      <td>E.T. the Extra-Terrestrial (1982)</td>\n",
       "      <td>Children's|Drama|Fantasy|Sci-Fi</td>\n",
       "      <td>0.360491</td>\n",
       "    </tr>\n",
       "    <tr>\n",
       "      <th>770</th>\n",
       "      <td>780</td>\n",
       "      <td>Independence Day (ID4) (1996)</td>\n",
       "      <td>Action|Sci-Fi|War</td>\n",
       "      <td>0.343558</td>\n",
       "    </tr>\n",
       "    <tr>\n",
       "      <th>3458</th>\n",
       "      <td>3527</td>\n",
       "      <td>Predator (1987)</td>\n",
       "      <td>Action|Sci-Fi|Thriller</td>\n",
       "      <td>0.343206</td>\n",
       "    </tr>\n",
       "    <tr>\n",
       "      <th>1932</th>\n",
       "      <td>2001</td>\n",
       "      <td>Lethal Weapon 2 (1989)</td>\n",
       "      <td>Action|Comedy|Crime|Drama</td>\n",
       "      <td>0.336452</td>\n",
       "    </tr>\n",
       "  </tbody>\n",
       "</table>\n",
       "</div>"
      ],
      "text/plain": [
       "      MovieID                                              Title  \\\n",
       "1192     1210  Star Wars: Episode VI - Return of the Jedi (1983)   \n",
       "257       260          Star Wars: Episode IV - A New Hope (1977)   \n",
       "1220     1240                             Terminator, The (1984)   \n",
       "1250     1270                          Back to the Future (1985)   \n",
       "1271     1291          Indiana Jones and the Last Crusade (1989)   \n",
       "1196     1214                                       Alien (1979)   \n",
       "108       110                                  Braveheart (1995)   \n",
       "2502     2571                                 Matrix, The (1999)   \n",
       "1226     1246                          Dead Poets Society (1989)   \n",
       "1178     1196  Star Wars: Episode V - The Empire Strikes Back...   \n",
       "325       329                      Star Trek: Generations (1994)   \n",
       "453       457                               Fugitive, The (1993)   \n",
       "2559     2628   Star Wars: Episode I - The Phantom Menace (1999)   \n",
       "1023     1036                                    Die Hard (1988)   \n",
       "1353     1374                Star Trek: The Wrath of Khan (1982)   \n",
       "1568     1610                   Hunt for Red October, The (1990)   \n",
       "1081     1097                  E.T. the Extra-Terrestrial (1982)   \n",
       "770       780                      Independence Day (ID4) (1996)   \n",
       "3458     3527                                    Predator (1987)   \n",
       "1932     2001                             Lethal Weapon 2 (1989)   \n",
       "\n",
       "                                   Genres  RecommendationScore  \n",
       "1192  Action|Adventure|Romance|Sci-Fi|War             0.771618  \n",
       "257       Action|Adventure|Fantasy|Sci-Fi             0.746047  \n",
       "1220               Action|Sci-Fi|Thriller             0.608150  \n",
       "1250                        Comedy|Sci-Fi             0.551689  \n",
       "1271                     Action|Adventure             0.510857  \n",
       "1196        Action|Horror|Sci-Fi|Thriller             0.508325  \n",
       "108                      Action|Drama|War             0.506023  \n",
       "2502               Action|Sci-Fi|Thriller             0.493729  \n",
       "1226                                Drama             0.464721  \n",
       "1178    Action|Adventure|Drama|Sci-Fi|War             0.450785  \n",
       "325               Action|Adventure|Sci-Fi             0.439494  \n",
       "453                       Action|Thriller             0.428248  \n",
       "2559      Action|Adventure|Fantasy|Sci-Fi             0.420013  \n",
       "1023                      Action|Thriller             0.384189  \n",
       "1353              Action|Adventure|Sci-Fi             0.383312  \n",
       "1568                      Action|Thriller             0.382512  \n",
       "1081      Children's|Drama|Fantasy|Sci-Fi             0.360491  \n",
       "770                     Action|Sci-Fi|War             0.343558  \n",
       "3458               Action|Sci-Fi|Thriller             0.343206  \n",
       "1932            Action|Comedy|Crime|Drama             0.336452  "
      ]
     },
     "execution_count": 53,
     "metadata": {},
     "output_type": "execute_result"
    }
   ],
   "source": [
    "scored_movies_df_mock = movies_df[movies_df['MovieID'].isin(user_rating_df.columns)]\n",
    "scored_movies_df_mock = scored_movies_df_mock.assign(RecommendationScore = rec[0])\n",
    "scored_movies_df_mock.sort_values([\"RecommendationScore\"], ascending=False).head(20)"
   ]
  },
  {
   "cell_type": "markdown",
   "metadata": {},
   "source": [
    "So, how to recommend the movies that the user has not watched yet? "
   ]
  },
  {
   "cell_type": "markdown",
   "metadata": {},
   "source": [
    "Now, we can find all the movies that our mock user has watched before:"
   ]
  },
  {
   "cell_type": "code",
   "execution_count": 55,
   "metadata": {},
   "outputs": [
    {
     "data": {
      "text/html": [
       "<div>\n",
       "<style scoped>\n",
       "    .dataframe tbody tr th:only-of-type {\n",
       "        vertical-align: middle;\n",
       "    }\n",
       "\n",
       "    .dataframe tbody tr th {\n",
       "        vertical-align: top;\n",
       "    }\n",
       "\n",
       "    .dataframe thead th {\n",
       "        text-align: right;\n",
       "    }\n",
       "</style>\n",
       "<table border=\"1\" class=\"dataframe\">\n",
       "  <thead>\n",
       "    <tr style=\"text-align: right;\">\n",
       "      <th></th>\n",
       "      <th>UserID</th>\n",
       "      <th>MovieID</th>\n",
       "      <th>Rating</th>\n",
       "      <th>Timestamp</th>\n",
       "    </tr>\n",
       "  </thead>\n",
       "  <tbody>\n",
       "    <tr>\n",
       "      <th>31603</th>\n",
       "      <td>215</td>\n",
       "      <td>3793</td>\n",
       "      <td>5</td>\n",
       "      <td>977099259</td>\n",
       "    </tr>\n",
       "    <tr>\n",
       "      <th>31604</th>\n",
       "      <td>215</td>\n",
       "      <td>1</td>\n",
       "      <td>4</td>\n",
       "      <td>979174987</td>\n",
       "    </tr>\n",
       "    <tr>\n",
       "      <th>31605</th>\n",
       "      <td>215</td>\n",
       "      <td>1197</td>\n",
       "      <td>5</td>\n",
       "      <td>976899663</td>\n",
       "    </tr>\n",
       "    <tr>\n",
       "      <th>31606</th>\n",
       "      <td>215</td>\n",
       "      <td>2302</td>\n",
       "      <td>5</td>\n",
       "      <td>976899718</td>\n",
       "    </tr>\n",
       "    <tr>\n",
       "      <th>31607</th>\n",
       "      <td>215</td>\n",
       "      <td>2167</td>\n",
       "      <td>5</td>\n",
       "      <td>976899770</td>\n",
       "    </tr>\n",
       "  </tbody>\n",
       "</table>\n",
       "</div>"
      ],
      "text/plain": [
       "       UserID  MovieID  Rating  Timestamp\n",
       "31603     215     3793       5  977099259\n",
       "31604     215        1       4  979174987\n",
       "31605     215     1197       5  976899663\n",
       "31606     215     2302       5  976899718\n",
       "31607     215     2167       5  976899770"
      ]
     },
     "execution_count": 55,
     "metadata": {},
     "output_type": "execute_result"
    }
   ],
   "source": [
    "movies_df_mock = ratings_df[ratings_df['UserID'] == mock_user_id]\n",
    "movies_df_mock.head()"
   ]
  },
  {
   "cell_type": "markdown",
   "metadata": {},
   "source": [
    "In the next cell, we merge all the movies that our mock users has watched with the predicted scores based on his historical data:"
   ]
  },
  {
   "cell_type": "code",
   "execution_count": 57,
   "metadata": {},
   "outputs": [],
   "source": [
    "#Merging movies_df with ratings_df by MovieID\n",
    "merged_df_mock = scored_movies_df_mock.merge(movies_df_mock, on='MovieID', how='outer')"
   ]
  },
  {
   "cell_type": "markdown",
   "metadata": {},
   "source": [
    "lets sort it and take a look at the first 20 rows:"
   ]
  },
  {
   "cell_type": "code",
   "execution_count": 59,
   "metadata": {},
   "outputs": [
    {
     "data": {
      "text/html": [
       "<div>\n",
       "<style scoped>\n",
       "    .dataframe tbody tr th:only-of-type {\n",
       "        vertical-align: middle;\n",
       "    }\n",
       "\n",
       "    .dataframe tbody tr th {\n",
       "        vertical-align: top;\n",
       "    }\n",
       "\n",
       "    .dataframe thead th {\n",
       "        text-align: right;\n",
       "    }\n",
       "</style>\n",
       "<table border=\"1\" class=\"dataframe\">\n",
       "  <thead>\n",
       "    <tr style=\"text-align: right;\">\n",
       "      <th></th>\n",
       "      <th>MovieID</th>\n",
       "      <th>Title</th>\n",
       "      <th>Genres</th>\n",
       "      <th>RecommendationScore</th>\n",
       "      <th>UserID</th>\n",
       "      <th>Rating</th>\n",
       "      <th>Timestamp</th>\n",
       "    </tr>\n",
       "  </thead>\n",
       "  <tbody>\n",
       "    <tr>\n",
       "      <th>1120</th>\n",
       "      <td>1210</td>\n",
       "      <td>Star Wars: Episode VI - Return of the Jedi (1983)</td>\n",
       "      <td>Action|Adventure|Romance|Sci-Fi|War</td>\n",
       "      <td>0.771618</td>\n",
       "      <td>215.0</td>\n",
       "      <td>5.0</td>\n",
       "      <td>976899689.0</td>\n",
       "    </tr>\n",
       "    <tr>\n",
       "      <th>253</th>\n",
       "      <td>260</td>\n",
       "      <td>Star Wars: Episode IV - A New Hope (1977)</td>\n",
       "      <td>Action|Adventure|Fantasy|Sci-Fi</td>\n",
       "      <td>0.746047</td>\n",
       "      <td>215.0</td>\n",
       "      <td>5.0</td>\n",
       "      <td>976899190.0</td>\n",
       "    </tr>\n",
       "    <tr>\n",
       "      <th>1148</th>\n",
       "      <td>1240</td>\n",
       "      <td>Terminator, The (1984)</td>\n",
       "      <td>Action|Sci-Fi|Thriller</td>\n",
       "      <td>0.608150</td>\n",
       "      <td>NaN</td>\n",
       "      <td>NaN</td>\n",
       "      <td>NaN</td>\n",
       "    </tr>\n",
       "    <tr>\n",
       "      <th>1178</th>\n",
       "      <td>1270</td>\n",
       "      <td>Back to the Future (1985)</td>\n",
       "      <td>Comedy|Sci-Fi</td>\n",
       "      <td>0.551689</td>\n",
       "      <td>NaN</td>\n",
       "      <td>NaN</td>\n",
       "      <td>NaN</td>\n",
       "    </tr>\n",
       "    <tr>\n",
       "      <th>1199</th>\n",
       "      <td>1291</td>\n",
       "      <td>Indiana Jones and the Last Crusade (1989)</td>\n",
       "      <td>Action|Adventure</td>\n",
       "      <td>0.510857</td>\n",
       "      <td>NaN</td>\n",
       "      <td>NaN</td>\n",
       "      <td>NaN</td>\n",
       "    </tr>\n",
       "    <tr>\n",
       "      <th>1124</th>\n",
       "      <td>1214</td>\n",
       "      <td>Alien (1979)</td>\n",
       "      <td>Action|Horror|Sci-Fi|Thriller</td>\n",
       "      <td>0.508325</td>\n",
       "      <td>NaN</td>\n",
       "      <td>NaN</td>\n",
       "      <td>NaN</td>\n",
       "    </tr>\n",
       "    <tr>\n",
       "      <th>106</th>\n",
       "      <td>110</td>\n",
       "      <td>Braveheart (1995)</td>\n",
       "      <td>Action|Drama|War</td>\n",
       "      <td>0.506023</td>\n",
       "      <td>NaN</td>\n",
       "      <td>NaN</td>\n",
       "      <td>NaN</td>\n",
       "    </tr>\n",
       "    <tr>\n",
       "      <th>2374</th>\n",
       "      <td>2571</td>\n",
       "      <td>Matrix, The (1999)</td>\n",
       "      <td>Action|Sci-Fi|Thriller</td>\n",
       "      <td>0.493729</td>\n",
       "      <td>NaN</td>\n",
       "      <td>NaN</td>\n",
       "      <td>NaN</td>\n",
       "    </tr>\n",
       "    <tr>\n",
       "      <th>1154</th>\n",
       "      <td>1246</td>\n",
       "      <td>Dead Poets Society (1989)</td>\n",
       "      <td>Drama</td>\n",
       "      <td>0.464721</td>\n",
       "      <td>NaN</td>\n",
       "      <td>NaN</td>\n",
       "      <td>NaN</td>\n",
       "    </tr>\n",
       "    <tr>\n",
       "      <th>1106</th>\n",
       "      <td>1196</td>\n",
       "      <td>Star Wars: Episode V - The Empire Strikes Back...</td>\n",
       "      <td>Action|Adventure|Drama|Sci-Fi|War</td>\n",
       "      <td>0.450785</td>\n",
       "      <td>NaN</td>\n",
       "      <td>NaN</td>\n",
       "      <td>NaN</td>\n",
       "    </tr>\n",
       "    <tr>\n",
       "      <th>319</th>\n",
       "      <td>329</td>\n",
       "      <td>Star Trek: Generations (1994)</td>\n",
       "      <td>Action|Adventure|Sci-Fi</td>\n",
       "      <td>0.439494</td>\n",
       "      <td>NaN</td>\n",
       "      <td>NaN</td>\n",
       "      <td>NaN</td>\n",
       "    </tr>\n",
       "    <tr>\n",
       "      <th>443</th>\n",
       "      <td>457</td>\n",
       "      <td>Fugitive, The (1993)</td>\n",
       "      <td>Action|Thriller</td>\n",
       "      <td>0.428248</td>\n",
       "      <td>NaN</td>\n",
       "      <td>NaN</td>\n",
       "      <td>NaN</td>\n",
       "    </tr>\n",
       "    <tr>\n",
       "      <th>2426</th>\n",
       "      <td>2628</td>\n",
       "      <td>Star Wars: Episode I - The Phantom Menace (1999)</td>\n",
       "      <td>Action|Adventure|Fantasy|Sci-Fi</td>\n",
       "      <td>0.420013</td>\n",
       "      <td>215.0</td>\n",
       "      <td>5.0</td>\n",
       "      <td>976908635.0</td>\n",
       "    </tr>\n",
       "    <tr>\n",
       "      <th>971</th>\n",
       "      <td>1036</td>\n",
       "      <td>Die Hard (1988)</td>\n",
       "      <td>Action|Thriller</td>\n",
       "      <td>0.384189</td>\n",
       "      <td>NaN</td>\n",
       "      <td>NaN</td>\n",
       "      <td>NaN</td>\n",
       "    </tr>\n",
       "    <tr>\n",
       "      <th>1275</th>\n",
       "      <td>1374</td>\n",
       "      <td>Star Trek: The Wrath of Khan (1982)</td>\n",
       "      <td>Action|Adventure|Sci-Fi</td>\n",
       "      <td>0.383312</td>\n",
       "      <td>NaN</td>\n",
       "      <td>NaN</td>\n",
       "      <td>NaN</td>\n",
       "    </tr>\n",
       "    <tr>\n",
       "      <th>1478</th>\n",
       "      <td>1610</td>\n",
       "      <td>Hunt for Red October, The (1990)</td>\n",
       "      <td>Action|Thriller</td>\n",
       "      <td>0.382512</td>\n",
       "      <td>NaN</td>\n",
       "      <td>NaN</td>\n",
       "      <td>NaN</td>\n",
       "    </tr>\n",
       "    <tr>\n",
       "      <th>1025</th>\n",
       "      <td>1097</td>\n",
       "      <td>E.T. the Extra-Terrestrial (1982)</td>\n",
       "      <td>Children's|Drama|Fantasy|Sci-Fi</td>\n",
       "      <td>0.360491</td>\n",
       "      <td>215.0</td>\n",
       "      <td>5.0</td>\n",
       "      <td>976908468.0</td>\n",
       "    </tr>\n",
       "    <tr>\n",
       "      <th>737</th>\n",
       "      <td>780</td>\n",
       "      <td>Independence Day (ID4) (1996)</td>\n",
       "      <td>Action|Sci-Fi|War</td>\n",
       "      <td>0.343558</td>\n",
       "      <td>NaN</td>\n",
       "      <td>NaN</td>\n",
       "      <td>NaN</td>\n",
       "    </tr>\n",
       "    <tr>\n",
       "      <th>3294</th>\n",
       "      <td>3527</td>\n",
       "      <td>Predator (1987)</td>\n",
       "      <td>Action|Sci-Fi|Thriller</td>\n",
       "      <td>0.343206</td>\n",
       "      <td>NaN</td>\n",
       "      <td>NaN</td>\n",
       "      <td>NaN</td>\n",
       "    </tr>\n",
       "    <tr>\n",
       "      <th>1821</th>\n",
       "      <td>2001</td>\n",
       "      <td>Lethal Weapon 2 (1989)</td>\n",
       "      <td>Action|Comedy|Crime|Drama</td>\n",
       "      <td>0.336452</td>\n",
       "      <td>NaN</td>\n",
       "      <td>NaN</td>\n",
       "      <td>NaN</td>\n",
       "    </tr>\n",
       "  </tbody>\n",
       "</table>\n",
       "</div>"
      ],
      "text/plain": [
       "      MovieID                                              Title  \\\n",
       "1120     1210  Star Wars: Episode VI - Return of the Jedi (1983)   \n",
       "253       260          Star Wars: Episode IV - A New Hope (1977)   \n",
       "1148     1240                             Terminator, The (1984)   \n",
       "1178     1270                          Back to the Future (1985)   \n",
       "1199     1291          Indiana Jones and the Last Crusade (1989)   \n",
       "1124     1214                                       Alien (1979)   \n",
       "106       110                                  Braveheart (1995)   \n",
       "2374     2571                                 Matrix, The (1999)   \n",
       "1154     1246                          Dead Poets Society (1989)   \n",
       "1106     1196  Star Wars: Episode V - The Empire Strikes Back...   \n",
       "319       329                      Star Trek: Generations (1994)   \n",
       "443       457                               Fugitive, The (1993)   \n",
       "2426     2628   Star Wars: Episode I - The Phantom Menace (1999)   \n",
       "971      1036                                    Die Hard (1988)   \n",
       "1275     1374                Star Trek: The Wrath of Khan (1982)   \n",
       "1478     1610                   Hunt for Red October, The (1990)   \n",
       "1025     1097                  E.T. the Extra-Terrestrial (1982)   \n",
       "737       780                      Independence Day (ID4) (1996)   \n",
       "3294     3527                                    Predator (1987)   \n",
       "1821     2001                             Lethal Weapon 2 (1989)   \n",
       "\n",
       "                                   Genres  RecommendationScore  UserID  \\\n",
       "1120  Action|Adventure|Romance|Sci-Fi|War             0.771618   215.0   \n",
       "253       Action|Adventure|Fantasy|Sci-Fi             0.746047   215.0   \n",
       "1148               Action|Sci-Fi|Thriller             0.608150     NaN   \n",
       "1178                        Comedy|Sci-Fi             0.551689     NaN   \n",
       "1199                     Action|Adventure             0.510857     NaN   \n",
       "1124        Action|Horror|Sci-Fi|Thriller             0.508325     NaN   \n",
       "106                      Action|Drama|War             0.506023     NaN   \n",
       "2374               Action|Sci-Fi|Thriller             0.493729     NaN   \n",
       "1154                                Drama             0.464721     NaN   \n",
       "1106    Action|Adventure|Drama|Sci-Fi|War             0.450785     NaN   \n",
       "319               Action|Adventure|Sci-Fi             0.439494     NaN   \n",
       "443                       Action|Thriller             0.428248     NaN   \n",
       "2426      Action|Adventure|Fantasy|Sci-Fi             0.420013   215.0   \n",
       "971                       Action|Thriller             0.384189     NaN   \n",
       "1275              Action|Adventure|Sci-Fi             0.383312     NaN   \n",
       "1478                      Action|Thriller             0.382512     NaN   \n",
       "1025      Children's|Drama|Fantasy|Sci-Fi             0.360491   215.0   \n",
       "737                     Action|Sci-Fi|War             0.343558     NaN   \n",
       "3294               Action|Sci-Fi|Thriller             0.343206     NaN   \n",
       "1821            Action|Comedy|Crime|Drama             0.336452     NaN   \n",
       "\n",
       "      Rating    Timestamp  \n",
       "1120     5.0  976899689.0  \n",
       "253      5.0  976899190.0  \n",
       "1148     NaN          NaN  \n",
       "1178     NaN          NaN  \n",
       "1199     NaN          NaN  \n",
       "1124     NaN          NaN  \n",
       "106      NaN          NaN  \n",
       "2374     NaN          NaN  \n",
       "1154     NaN          NaN  \n",
       "1106     NaN          NaN  \n",
       "319      NaN          NaN  \n",
       "443      NaN          NaN  \n",
       "2426     5.0  976908635.0  \n",
       "971      NaN          NaN  \n",
       "1275     NaN          NaN  \n",
       "1478     NaN          NaN  \n",
       "1025     5.0  976908468.0  \n",
       "737      NaN          NaN  \n",
       "3294     NaN          NaN  \n",
       "1821     NaN          NaN  "
      ]
     },
     "execution_count": 59,
     "metadata": {},
     "output_type": "execute_result"
    }
   ],
   "source": [
    "merged_df_mock.sort_values([\"RecommendationScore\"], ascending=False).head(20)"
   ]
  },
  {
   "cell_type": "markdown",
   "metadata": {},
   "source": [
    "As you can see, there are some movies that user has not watched yet and has high score based on our model. So, we can recommend them to the user."
   ]
  },
  {
   "cell_type": "markdown",
   "metadata": {},
   "source": [
    "This is the end of the tutorial. If you want, you can try to change the parameters in the code -- adding more units to the hidden layer, changing the loss functions or maybe something else to see if it changes anything. Optimization settings can also be adjusted...the number of epochs, the size of K, and the batch size are all interesting numbers to explore.\n",
    "Does the model perform better? Does it take longer to compute?\n",
    "\n",
    "Thank you for reading this notebook. Hopefully, you now have a little more understanding of the RBM model, its applications and how it works with TensorFlow."
   ]
  },
  {
   "cell_type": "markdown",
   "metadata": {},
   "source": [
    "<hr>"
   ]
  },
  {
   "cell_type": "markdown",
   "metadata": {},
   "source": [
    "## Want to learn more?\n",
    "\n",
    "You can use __Watson Studio__ to run these notebooks faster with bigger datasets.__Watson Studio__ is IBM’s leading cloud solution for data scientists, built by data scientists. With Jupyter notebooks, RStudio, Apache Spark and popular libraries pre-packaged in the cloud, __Watson Studio__ enables data scientists to collaborate on their projects without having to install anything. Join the fast-growing community of __Watson Studio__ users today with a free account at [Watson Studio](http://ibm.biz/WatsonStudioRBM).This is the end of this lesson. Thank you for reading this notebook, and good luck on your studies."
   ]
  },
  {
   "cell_type": "markdown",
   "metadata": {},
   "source": [
    "### Thank you for completing this exercise!\n",
    "\n",
    "Notebook created by: <a href = \"https://ca.linkedin.com/in/saeedaghabozorgi\">Saeed Aghabozorgi</a>, Gabriel Garcez Barros Sousa\n",
    "\n",
    "Updated to TF 2.X by  <a href=\"https://ca.linkedin.com/in/nilmeier\"> Jerome Nilmeier</a><br />\n",
    "\n",
    "Added to IBM Developer by <a href=https://www.linkedin.com/in/fawazsiddiqi/> Mohammad Fawaz Siddiqi </a> <br/>"
   ]
  },
  {
   "cell_type": "markdown",
   "metadata": {},
   "source": [
    "<hr>\n",
    "\n",
    "Copyright &copy; 2020 [Cognitive Class](https://cocl.us/DX0108EN_CC). This notebook and its source code are released under the terms of the [MIT License](https://bigdatauniversity.com/mit-license/)."
   ]
  }
 ],
 "metadata": {
  "kernelspec": {
   "display_name": "Python 3 (ipykernel)",
   "language": "python",
   "name": "python3"
  },
  "language_info": {
   "codemirror_mode": {
    "name": "ipython",
    "version": 3
   },
   "file_extension": ".py",
   "mimetype": "text/x-python",
   "name": "python",
   "nbconvert_exporter": "python",
   "pygments_lexer": "ipython3",
   "version": "3.10.0"
  },
  "widgets": {
   "state": {},
   "version": "1.1.2"
  }
 },
 "nbformat": 4,
 "nbformat_minor": 4
}
